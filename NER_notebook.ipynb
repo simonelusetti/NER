{
 "cells": [
  {
   "cell_type": "code",
   "execution_count": 1,
   "metadata": {},
   "outputs": [
    {
     "name": "stderr",
     "output_type": "stream",
     "text": [
      "/Users/simonelusetti/phd/NER/.venv/lib/python3.13/site-packages/tqdm/auto.py:21: TqdmWarning: IProgress not found. Please update jupyter and ipywidgets. See https://ipywidgets.readthedocs.io/en/stable/user_install.html\n",
      "  from .autonotebook import tqdm as notebook_tqdm\n"
     ]
    },
    {
     "name": "stdout",
     "output_type": "stream",
     "text": [
      "Batch loss 0.4227069616317749\n",
      "Batch loss 0.2678055167198181\n",
      "Batch loss 0.22630029916763306\n",
      "Batch loss 0.23801881074905396\n",
      "Batch loss 0.1744709610939026\n",
      "Batch loss 0.21314378082752228\n",
      "Batch loss 0.24280136823654175\n",
      "Batch loss 0.2231641709804535\n",
      "Batch loss 0.20719073712825775\n",
      "Batch loss 0.1650230437517166\n",
      "Batch loss 0.21489082276821136\n",
      "Batch loss 0.19373521208763123\n",
      "Batch loss 0.2070760726928711\n",
      "Batch loss 0.1753310114145279\n",
      "Batch loss 0.19897152483463287\n",
      "Batch loss 0.18144837021827698\n",
      "Batch loss 0.12118695676326752\n",
      "Batch loss 0.13534528017044067\n",
      "Batch loss 0.1500398814678192\n",
      "Batch loss 0.12393879145383835\n",
      "Epoch 1, Loss: 0.2041294787079096\n",
      "Batch loss 0.16393642127513885\n",
      "Batch loss 0.1275119036436081\n",
      "Batch loss 0.17660117149353027\n",
      "Batch loss 0.13980796933174133\n",
      "Batch loss 0.12600184977054596\n",
      "Batch loss 0.1369914561510086\n",
      "Batch loss 0.14825572073459625\n",
      "Batch loss 0.13809575140476227\n",
      "Batch loss 0.13833661377429962\n",
      "Batch loss 0.14033210277557373\n",
      "Batch loss 0.14449971914291382\n",
      "Batch loss 0.11578918248414993\n",
      "Batch loss 0.12761011719703674\n",
      "Batch loss 0.1139691099524498\n",
      "Batch loss 0.13907967507839203\n",
      "Batch loss 0.12141374498605728\n",
      "Batch loss 0.14466926455497742\n",
      "Batch loss 0.145387664437294\n",
      "Batch loss 0.1048206090927124\n",
      "Batch loss 0.12986880540847778\n",
      "Epoch 2, Loss: 0.1361489426344633\n",
      "Batch loss 0.11522683501243591\n",
      "Batch loss 0.15330840647220612\n",
      "Batch loss 0.12637245655059814\n",
      "Batch loss 0.1092948243021965\n",
      "Batch loss 0.09387890249490738\n",
      "Batch loss 0.12924379110336304\n",
      "Batch loss 0.10259108245372772\n",
      "Batch loss 0.12324435263872147\n",
      "Batch loss 0.10227153450250626\n",
      "Batch loss 0.10283588618040085\n",
      "Batch loss 0.09484153985977173\n",
      "Batch loss 0.09067589044570923\n",
      "Batch loss 0.1248357817530632\n",
      "Batch loss 0.10217224061489105\n",
      "Batch loss 0.13627125322818756\n",
      "Batch loss 0.0846562460064888\n",
      "Batch loss 0.09053947031497955\n",
      "Batch loss 0.13784503936767578\n",
      "Batch loss 0.08781923353672028\n",
      "Batch loss 0.13610872626304626\n",
      "Epoch 3, Loss: 0.11220167465507984\n"
     ]
    }
   ],
   "source": [
    "from NER_cadec import training_loop\n",
    "model = training_loop(\"./datasets/cadec\", verbose=True)"
   ]
  },
  {
   "cell_type": "code",
   "execution_count": 2,
   "metadata": {},
   "outputs": [],
   "source": [
    "import torch\n",
    "torch.save(model.state_dict(), \"./datasets/cadec/model.pth\")"
   ]
  }
 ],
 "metadata": {
  "kernelspec": {
   "display_name": "Python 3",
   "language": "python",
   "name": "python3"
  },
  "language_info": {
   "codemirror_mode": {
    "name": "ipython",
    "version": 3
   },
   "file_extension": ".py",
   "mimetype": "text/x-python",
   "name": "python",
   "nbconvert_exporter": "python",
   "pygments_lexer": "ipython3",
   "version": "3.13.2"
  }
 },
 "nbformat": 4,
 "nbformat_minor": 2
}
