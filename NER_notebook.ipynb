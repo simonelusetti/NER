{
 "cells": [
  {
   "cell_type": "code",
   "execution_count": 10,
   "metadata": {},
   "outputs": [
    {
     "name": "stdout",
     "output_type": "stream",
     "text": [
      "Batch loss 0.098366878926754\n",
      "Batch loss 0.10075891762971878\n",
      "Batch loss 0.11353789269924164\n",
      "Batch loss 0.09963404387235641\n",
      "Batch loss 0.07758814841508865\n",
      "Batch loss 0.1001545861363411\n",
      "Batch loss 0.09876330941915512\n",
      "Batch loss 0.09366847574710846\n",
      "Batch loss 0.11208274215459824\n",
      "Batch loss 0.09293252229690552\n",
      "Batch loss 0.08346154540777206\n",
      "Batch loss 0.08818788081407547\n",
      "Batch loss 0.08771565556526184\n",
      "Batch loss 0.07849792391061783\n",
      "Batch loss 0.0818762332201004\n",
      "Batch loss 0.08885709941387177\n",
      "Batch loss 0.07698898762464523\n",
      "Batch loss 0.08449578285217285\n",
      "Batch loss 0.07460876554250717\n",
      "Batch loss 0.08292275667190552\n",
      "Epoch 1, Loss: 0.0907550074160099\n",
      "Batch loss 0.07997173070907593\n",
      "Batch loss 0.07845009118318558\n",
      "Batch loss 0.0729614719748497\n",
      "Batch loss 0.06558797508478165\n",
      "Batch loss 0.08648102730512619\n",
      "Batch loss 0.07118694484233856\n",
      "Batch loss 0.06716682761907578\n",
      "Batch loss 0.07694731652736664\n",
      "Batch loss 0.08007873594760895\n",
      "Batch loss 0.07001463323831558\n",
      "Batch loss 0.0652688667178154\n",
      "Batch loss 0.07340622693300247\n",
      "Batch loss 0.06271390616893768\n",
      "Batch loss 0.06691750138998032\n",
      "Batch loss 0.061947647482156754\n",
      "Batch loss 0.06390614062547684\n",
      "Batch loss 0.057123616337776184\n",
      "Batch loss 0.06322827190160751\n",
      "Batch loss 0.06133025139570236\n",
      "Batch loss 0.057761505246162415\n",
      "Epoch 2, Loss: 0.06912253443151713\n",
      "Batch loss 0.06795414537191391\n",
      "Batch loss 0.05465886369347572\n",
      "Batch loss 0.06539981067180634\n",
      "Batch loss 0.0563616007566452\n",
      "Batch loss 0.053993720561265945\n",
      "Batch loss 0.04361468926072121\n",
      "Batch loss 0.05518750473856926\n",
      "Batch loss 0.053230587393045425\n",
      "Batch loss 0.06957608461380005\n",
      "Batch loss 0.048422325402498245\n",
      "Batch loss 0.04849455878138542\n",
      "Batch loss 0.061875779181718826\n",
      "Batch loss 0.053099408745765686\n",
      "Batch loss 0.05311599373817444\n",
      "Batch loss 0.052685610949993134\n",
      "Batch loss 0.05196935310959816\n",
      "Batch loss 0.05926046893000603\n",
      "Batch loss 0.049117639660835266\n",
      "Batch loss 0.054428886622190475\n",
      "Batch loss 0.05064765736460686\n",
      "Epoch 3, Loss: 0.05515473447740078\n"
     ]
    }
   ],
   "source": [
    "from NER_cadec import training_loop\n",
    "model = training_loop(\"./datasets/cadec\", verbose=True, pos_weight=17)"
   ]
  },
  {
   "cell_type": "code",
   "execution_count": 11,
   "metadata": {},
   "outputs": [],
   "source": [
    "import torch\n",
    "torch.save(model.state_dict(), \"./models/cadec/model_17.pth\")"
   ]
  },
  {
   "cell_type": "code",
   "execution_count": 13,
   "metadata": {},
   "outputs": [
    {
     "data": {
      "text/plain": [
       "(0.20902511707109409, 0.6680272108843538, 0.31841763942931256)"
      ]
     },
     "execution_count": 13,
     "metadata": {},
     "output_type": "execute_result"
    }
   ],
   "source": [
    "from NER_cadec import evaluation_loop\n",
    "evaluation_loop(model, \"./datasets/cadec\")"
   ]
  }
 ],
 "metadata": {
  "kernelspec": {
   "display_name": "Python 3",
   "language": "python",
   "name": "python3"
  },
  "language_info": {
   "codemirror_mode": {
    "name": "ipython",
    "version": 3
   },
   "file_extension": ".py",
   "mimetype": "text/x-python",
   "name": "python",
   "nbconvert_exporter": "python",
   "pygments_lexer": "ipython3",
   "version": "3.13.2"
  }
 },
 "nbformat": 4,
 "nbformat_minor": 2
}
